{
 "cells": [
  {
   "cell_type": "code",
   "execution_count": 61,
   "source": [
    "import requests\n",
    "import json\n",
    "\n",
    "text=\"\"\"4차산업 시대에서 필요한 교육은\"\"\"\n",
    "\n",
    "r = requests.post(\n",
    "    'https://train-e9v8cp6cg69c77cvxihv-gpt2-train-teachable-ainize.endpoint.ainize.ai/predictions/gpt-2-ko-small-finetune',\n",
    "    headers={\n",
    "      'Content-Type': 'application/json'  \n",
    "    },\n",
    "    data=json.dumps({\n",
    "        'text': text,\n",
    "        'num_samples': 1,\n",
    "        'length': 200\n",
    "    }))\n",
    "\n",
    "result = r.json()\n",
    "\n",
    "for r in result:\n",
    "    print(r)"
   ],
   "outputs": [
    {
     "output_type": "stream",
     "name": "stdout",
     "text": [
      "4차산업 시대에서 필요한 교육은 '인간친화적 사고능력'이었다. 따라서 창의력과 사고력을 가진 인재를 육성하기 위해서는 인문계 기피현상을 해결할 수 있는 '창의력+인성+학업성'을 갖춘 인재가 필요하다. 따라서 21세기 지식기반사회의 인재는 '21세기 인재의 적'이라고 할 수 있다.\n",
      "한편 지식경영과 지식정보화는 서로 연관되어 있다. 정보사회에서는 지식의 중요성이 높아졌으며 이에 따른 지식의 공유가 요구되고 있다. 따라서 지식관리체제로서 정보시스템이나 정보지식의 공유체제라고 할 때 지식은 공유시스템, 지식지식은 공유지식이다. 그러나 지식체계라고 해도 그것을 관리한다고 할 때는 관리ᆞ활용시스템이라는 말로 바꾸어 생각하면 된다. 정보체계적 관점에서는 정보관리체제가 지식의 창출을 담당하는 조직이 그 중요성을 더욱 강조되어야 한다. 지식의 생산자가 지식근로자나 관리자이기 때문이다.\n",
      "이론과 관리자나 직원 관리자에 의해 지식을 관리하고 지식시스템을 행하는 것이 가장 우선시한다.\n",
      "따라 조직의 관리해야 한다. 관리자의 역할은 다음과 같이 하여 관리자가 된다. 지식에 있어서 지식체계를 조직관리자가\n"
     ]
    }
   ],
   "metadata": {}
  }
 ],
 "metadata": {
  "interpreter": {
   "hash": "aee8b7b246df8f9039afb4144a1f6fd8d2ca17a180786b69acc140d282b71a49"
  },
  "kernelspec": {
   "name": "python3",
   "display_name": "Python 3.8.6 64-bit"
  },
  "language_info": {
   "codemirror_mode": {
    "name": "ipython",
    "version": 3
   },
   "file_extension": ".py",
   "mimetype": "text/x-python",
   "name": "python",
   "nbconvert_exporter": "python",
   "pygments_lexer": "ipython3",
   "version": "3.8.6"
  }
 },
 "nbformat": 4,
 "nbformat_minor": 2
}